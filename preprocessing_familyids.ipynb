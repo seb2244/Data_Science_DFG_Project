{
  "nbformat": 4,
  "nbformat_minor": 0,
  "metadata": {
    "colab": {
      "name": "preprocessing_familyids",
      "provenance": [],
      "collapsed_sections": []
    },
    "kernelspec": {
      "name": "python3",
      "display_name": "Python 3"
    }
  },
  "cells": [
    {
      "cell_type": "code",
      "metadata": {
        "id": "oAgqQ89B6GRx"
      },
      "source": [
        "import pandas as pd"
      ],
      "execution_count": null,
      "outputs": []
    },
    {
      "cell_type": "code",
      "metadata": {
        "id": "LETjVdDL6PCx",
        "colab": {
          "base_uri": "https://localhost:8080/"
        },
        "outputId": "4319b3a9-2ba4-4dd9-923e-aee6b21a506c"
      },
      "source": [
        "from google.colab import drive\n",
        "drive.mount('/content/drive')"
      ],
      "execution_count": null,
      "outputs": [
        {
          "output_type": "stream",
          "text": [
            "Mounted at /content/drive\n"
          ],
          "name": "stdout"
        }
      ]
    },
    {
      "cell_type": "code",
      "metadata": {
        "id": "PghYJGcS6dyI"
      },
      "source": [
        "# function that updates matches\n",
        "def connect_family_to_ind(input_filename, output_filename):\n",
        "  df = pd.read_excel(input_filename)\n",
        "\n",
        "  ind_to_family_map = dict()\n",
        "  for family_id in df[\"Household Joint ID\"].unique():\n",
        "      if str(family_id).isnumeric():\n",
        "        ind_in_family = df[df[\"Household Joint ID\"] == family_id][\"Joint ID for Matched Records\"].unique()\n",
        "\n",
        "        for ind in ind_in_family:\n",
        "          if str(ind).isnumeric():\n",
        "            ind_to_family_map[ind] = family_id\n",
        "\n",
        "\n",
        "  df[\"Household Joint ID\"] = df[\"Household Joint ID\"].combine_first(df[\"Joint ID for Matched Records\"].map(ind_to_family_map))\n",
        "  df.sort_values('unique_id')\n",
        "  df.to_excel(output_filename, index=False)"
      ],
      "execution_count": null,
      "outputs": []
    },
    {
      "cell_type": "code",
      "metadata": {
        "id": "42DnlMAU7LKC"
      },
      "source": [
        "# construct new file\n",
        "root = \"drive/My Drive/Colab Notebooks/DFG Arenson\"\n",
        "input = root + \"/current_master_11_4_20.xlsx\"\n",
        "output = root + \"/current_master_11_11_20.xlsx\"\n",
        "\n",
        "connect_family_to_ind(input, output)"
      ],
      "execution_count": null,
      "outputs": []
    },
    {
      "cell_type": "code",
      "metadata": {
        "id": "wjpHB4meQ6F7",
        "colab": {
          "base_uri": "https://localhost:8080/"
        },
        "outputId": "b1e98cb3-9ce1-4c02-e201-4cd7646d7216"
      },
      "source": [
        " # check\n",
        " df_check = pd.read_excel(output)\n",
        " print(df_check[df_check[\"Household Joint ID\"] == 41][\"Joint ID for Matched Records\"])"
      ],
      "execution_count": null,
      "outputs": [
        {
          "output_type": "stream",
          "text": [
            "216     130\n",
            "217     130\n",
            "218     131\n",
            "219     131\n",
            "220     132\n",
            "221     133\n",
            "222     133\n",
            "223     135\n",
            "224     136\n",
            "225     138\n",
            "226     139\n",
            "227     142\n",
            "228     142\n",
            "229     142\n",
            "1122    132\n",
            "1123    132\n",
            "1126    135\n",
            "1127    136\n",
            "1128    136\n",
            "1131    138\n",
            "1132    139\n",
            "1137    142\n",
            "Name: Joint ID for Matched Records, dtype: object\n"
          ],
          "name": "stdout"
        }
      ]
    },
    {
      "cell_type": "code",
      "metadata": {
        "id": "izfond6LTAn3"
      },
      "source": [
        "old = pd.read_excel(input)\n",
        "new = pd.read_excel(output)\n"
      ],
      "execution_count": null,
      "outputs": []
    },
    {
      "cell_type": "code",
      "metadata": {
        "id": "_qXcETsGU9Z5",
        "colab": {
          "base_uri": "https://localhost:8080/",
          "height": 419
        },
        "outputId": "ca7437db-3b0f-4502-dcc6-e82204c37a05"
      },
      "source": [
        "new[\"Household Joint ID\"].compare(old[\"Household Joint ID\"])"
      ],
      "execution_count": null,
      "outputs": [
        {
          "output_type": "execute_result",
          "data": {
            "text/html": [
              "<div>\n",
              "<style scoped>\n",
              "    .dataframe tbody tr th:only-of-type {\n",
              "        vertical-align: middle;\n",
              "    }\n",
              "\n",
              "    .dataframe tbody tr th {\n",
              "        vertical-align: top;\n",
              "    }\n",
              "\n",
              "    .dataframe thead th {\n",
              "        text-align: right;\n",
              "    }\n",
              "</style>\n",
              "<table border=\"1\" class=\"dataframe\">\n",
              "  <thead>\n",
              "    <tr style=\"text-align: right;\">\n",
              "      <th></th>\n",
              "      <th>self</th>\n",
              "      <th>other</th>\n",
              "    </tr>\n",
              "  </thead>\n",
              "  <tbody>\n",
              "    <tr>\n",
              "      <th>989</th>\n",
              "      <td>36</td>\n",
              "      <td>NaN</td>\n",
              "    </tr>\n",
              "    <tr>\n",
              "      <th>990</th>\n",
              "      <td>36</td>\n",
              "      <td>NaN</td>\n",
              "    </tr>\n",
              "    <tr>\n",
              "      <th>991</th>\n",
              "      <td>36</td>\n",
              "      <td>NaN</td>\n",
              "    </tr>\n",
              "    <tr>\n",
              "      <th>992</th>\n",
              "      <td>36</td>\n",
              "      <td>NaN</td>\n",
              "    </tr>\n",
              "    <tr>\n",
              "      <th>993</th>\n",
              "      <td>36</td>\n",
              "      <td>NaN</td>\n",
              "    </tr>\n",
              "    <tr>\n",
              "      <th>...</th>\n",
              "      <td>...</td>\n",
              "      <td>...</td>\n",
              "    </tr>\n",
              "    <tr>\n",
              "      <th>2668</th>\n",
              "      <td>99</td>\n",
              "      <td>NaN</td>\n",
              "    </tr>\n",
              "    <tr>\n",
              "      <th>2676</th>\n",
              "      <td>81</td>\n",
              "      <td>NaN</td>\n",
              "    </tr>\n",
              "    <tr>\n",
              "      <th>2689</th>\n",
              "      <td>110</td>\n",
              "      <td>NaN</td>\n",
              "    </tr>\n",
              "    <tr>\n",
              "      <th>3320</th>\n",
              "      <td>119</td>\n",
              "      <td>NaN</td>\n",
              "    </tr>\n",
              "    <tr>\n",
              "      <th>3690</th>\n",
              "      <td>5</td>\n",
              "      <td>NaN</td>\n",
              "    </tr>\n",
              "  </tbody>\n",
              "</table>\n",
              "<p>212 rows × 2 columns</p>\n",
              "</div>"
            ],
            "text/plain": [
              "     self other\n",
              "989    36   NaN\n",
              "990    36   NaN\n",
              "991    36   NaN\n",
              "992    36   NaN\n",
              "993    36   NaN\n",
              "...   ...   ...\n",
              "2668   99   NaN\n",
              "2676   81   NaN\n",
              "2689  110   NaN\n",
              "3320  119   NaN\n",
              "3690    5   NaN\n",
              "\n",
              "[212 rows x 2 columns]"
            ]
          },
          "metadata": {
            "tags": []
          },
          "execution_count": 161
        }
      ]
    },
    {
      "cell_type": "code",
      "metadata": {
        "id": "aJZ-YN28Ydvi"
      },
      "source": [
        "df_wtf = pd.read_excel(input)\n",
        "df_wtf = df_wtf.replace('nan', '')\n",
        "output_temp = root + \"/temp.xlsx\"\n",
        "df_wtf.to_excel(output_temp, index=False)"
      ],
      "execution_count": null,
      "outputs": []
    },
    {
      "cell_type": "code",
      "metadata": {
        "id": "ZnEHTlylqQhO"
      },
      "source": [
        "def county_from_longlat(input_filename, output_filename):\n",
        "  df = pd.read_excel(input_filename)\n",
        "  longlat_to_county = dict()\n",
        "  df.sort_values('unique_id')\n",
        "  df.to_excel(output_filename, index=False)"
      ],
      "execution_count": null,
      "outputs": []
    },
    {
      "cell_type": "code",
      "metadata": {
        "colab": {
          "base_uri": "https://localhost:8080/"
        },
        "id": "R08lO3WlsFZp",
        "outputId": "0bd13895-e9c5-4fe4-dfdc-a090d56464cd"
      },
      "source": [
        "root = \"drive/My Drive/Colab Notebooks/DFG Arenson\"\n",
        "input = root + \"/preprocessfinal1_06_2021.csv\"\n",
        "df = pd.read_csv(input)\n",
        "\n",
        "df.columns\n"
      ],
      "execution_count": null,
      "outputs": [
        {
          "output_type": "execute_result",
          "data": {
            "text/plain": [
              "Index(['Unnamed: 0', 'unique_id', 'Given.Name', 'Surname', 'Maiden.Name',\n",
              "       'Gender', 'Race', 'Marriage.Age', 'Birth.Year', 'Birth.Place',\n",
              "       'Notes.Other.Information', 'Spouse', 'Child', 'Source',\n",
              "       'State.Province', 'County', 'City', 'Household.Joint.ID',\n",
              "       'Joint.ID.for.Matched.Records', 'MiddleName', 'Residence.Year',\n",
              "       'Street.Address', 'Residence.Place', 'Occupation', 'Marital.status',\n",
              "       'Age', 'Death.Date', 'Death.Place', 'Line.Number', 'Dwelling.Number',\n",
              "       'Family.Number', 'Industry', 'Attended.School', 'Cannot.Read..Write',\n",
              "       'House.Number', 'Relation.to.Head.of.House', 'Marital.Status',\n",
              "       'Employment.History', 'Father.s.Birth.Place', 'Mother.s.Birth.Place',\n",
              "       'Street', 'Relationship', 'Immigration.Year', 'Able.to.read',\n",
              "       'Able.to.Write', 'Able.to.Speak.English', 'REGIMENT',\n",
              "       'DATE.OF.ENLISTMENT', 'PLACE.OF.ENLISTMENT', 'CAUSE.OF.DEATH',\n",
              "       'ORDER.NUMBER', 'Regt.', 'Application', 'Certificate', 'Full.Name',\n",
              "       'Rank', 'Co.', 'Height', 'Complex.', 'Census.Year', 'Place',\n",
              "       'Father.of.Foreign.Birth', 'Mother.of.Foreign.Birth', 'Cannot.Read',\n",
              "       'Cannot.Write', 'Number.of.Dwelling.in.Order.of.Visitation', 'Religion',\n",
              "       'Home.in.1861', 'Page.number', 'Township', 'Sheet.Number',\n",
              "       'Noonan.Page.Number', 'Able.to.Read.and.Write', 'Employment',\n",
              "       'Naturalization.Year', 'Middle.Name'],\n",
              "      dtype='object')"
            ]
          },
          "metadata": {
            "tags": []
          },
          "execution_count": 6
        }
      ]
    },
    {
      "cell_type": "code",
      "metadata": {
        "id": "RlmBzAII05B3"
      },
      "source": [
        ""
      ],
      "execution_count": null,
      "outputs": []
    }
  ]
}