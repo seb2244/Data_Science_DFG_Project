{
 "cells": [
  {
   "cell_type": "markdown",
   "metadata": {},
   "source": [
    "This code uses two different packages to extract names from a bunch of notes files and parses them into first, middle, and last names. To add gender, use Gender.Rmd file in github. "
   ]
  },
  {
   "cell_type": "code",
   "execution_count": null,
   "metadata": {},
   "outputs": [],
   "source": [
    "import en_core_web_sm\n",
    "nlp = en_core_web_sm.load()\n",
    "\n",
    "from nltk import ne_chunk, pos_tag, word_tokenize\n",
    "from nltk.tree import Tree\n",
    "from nltk.tag import StanfordNERTagger\n",
    "from nltk.tokenize import word_tokenize\n",
    "st = StanfordNERTagger('/Users/seb2244/Downloads/stanford-ner-4.0.0/classifiers/english.all.3class.distsim.crf.ser.gz',\n",
    "               '/Users/seb2244/Downloads/stanford-ner-4.0.0/stanford-ner.jar') \n",
    "\n",
    "from itertools import groupby"
   ]
  },
  {
   "cell_type": "code",
   "execution_count": null,
   "metadata": {},
   "outputs": [],
   "source": [
    "import pandas as pd\n",
    "import numpy as np\n",
    "import docx2txt # for reading docx files\n",
    "import os\n",
    "import re"
   ]
  },
  {
   "cell_type": "code",
   "execution_count": null,
   "metadata": {},
   "outputs": [],
   "source": [
    "# loop through folder of files and extract a row of names for each one\n",
    "\n",
    "data = pd.DataFrame(columns = [\"file_name\", \"name\"])\n",
    "file_list = []\n",
    "\n",
    "for file in os.listdir(os.getcwd()):\n",
    "    # this specific file is giving me problems for some reason \n",
    "    if file == \"~$ompson, Joseph 43 USCI NARA.docx\":\n",
    "        continue\n",
    "                \n",
    "    # don't read txt files that are duplicates of existing docx files \n",
    "    elif (file.endswith(\".txt\")) & (file[:-4] not in file_list):\n",
    "        file_list.append(file[:-4])\n",
    "        file_object = open(file)\n",
    "        text = file_object.read()\n",
    "    \n",
    "    # don't read docx files that are duplicates of existing txt files \n",
    "    elif (file.endswith(\".docx\")) & (file[:-5] not in file_list):\n",
    "        file_list.append(file[:-5])\n",
    "        text = docx2txt.process(file)  \n",
    "    \n",
    "    # will have to do few files of other types (doc, rtf) manually \n",
    "    else: \n",
    "        continue\n",
    "        \n",
    "    names = []\n",
    "        \n",
    "    # first method (using en_core_web_sm) \n",
    "    doc = nlp(text)\n",
    "    for X in doc.ents:\n",
    "        if X.label_ == 'PERSON':\n",
    "            string = str(X)\n",
    "            # get rid of special characters\n",
    "            string = string.replace(\"/n\", \"\").replace(\"/t\", \"\").strip()\n",
    "            string = re.sub(r\"[^a-zA-Z\\-., ]+\", \"\", string)\n",
    "            # restrict to a reasonable # of words for a name\n",
    "            length = len(string.split())\n",
    "            if (length > 1) & (length < 5):\n",
    "                names.append(string)\n",
    "                \n",
    "\n",
    "    # second way (using stanford ner tagger)\n",
    "    r=st.tag(text.split())\n",
    "    for tag, chunk in groupby(r, lambda x:x[1]):\n",
    "        if tag == \"PERSON\":\n",
    "            name = \" \".join(w for w, t in chunk)\n",
    "            for n in name.split(\";\"):\n",
    "                n = n.replace(\"/n\", \"\").replace(\"/t\", \"\").strip()\n",
    "                n = re.sub(r\"[^a-zA-Z\\-., ]+\", \"\", n)\n",
    "                length = len(n.split())\n",
    "                if (length > 1) & (length < 5):\n",
    "                    names.append(n)\n",
    "\n",
    "    names = list(set(names))\n",
    "    for name in names:\n",
    "        data = data.append({'file_name': file, 'name': name}, ignore_index=True)"
   ]
  },
  {
   "cell_type": "code",
   "execution_count": null,
   "metadata": {},
   "outputs": [],
   "source": [
    "for i in range(len(data.index)):\n",
    "    name = str(data.loc[i, 'name'])\n",
    "    \n",
    "    # take out hyphens at the end that were messing things up\n",
    "    name = re.sub(\"[-]+$\", \"\", name)\n",
    "    # take out abbreviations at the end that represent place or company \n",
    "    if pd.isna(name):\n",
    "        pass\n",
    "    else:\n",
    "        if re.match(\"[A-Za-z ]+ [A-Z]{2,}$\", name):\n",
    "            # check to make sure it doesn't end with our prespecified things\n",
    "            if re.search(\"SR|JR|PHD|MD\", name):\n",
    "                pass\n",
    "            else:\n",
    "                name = re.sub(\"[ A-Z]{2,}$\", \"\", name)\n",
    "                data.loc[i, \"name\"] = name\n",
    "    \n",
    "    # for one word names, this algorithm doesn't really do anything bc it can't tell if it's a first or last name\n",
    "    # so I'm just going to leave those columns as blank\n",
    "    if len(name.split()) == 1:\n",
    "        continue\n",
    "        \n",
    "    # use nameparser package to extract rest of names\n",
    "    name = HumanName(name)\n",
    "    data.loc[i, 'title'] = re.sub(\"\\.\", \"\", name.title)\n",
    "    data.loc[i, 'first_name'] = re.sub(\"\\.\", \"\", name.first)\n",
    "    data.loc[i, 'middle_name'] = re.sub(\"\\.\", \"\", name.middle)\n",
    "    data.loc[i, 'last_name'] = re.sub(\"\\.\", \"\", name.last)\n",
    "    data.loc[i, 'suffix'] = re.sub(\"\\.\", \"\", name.suffix)"
   ]
  }
 ],
 "metadata": {
  "kernelspec": {
   "display_name": "Python 3",
   "language": "python",
   "name": "python3"
  },
  "language_info": {
   "codemirror_mode": {
    "name": "ipython",
    "version": 3
   },
   "file_extension": ".py",
   "mimetype": "text/x-python",
   "name": "python",
   "nbconvert_exporter": "python",
   "pygments_lexer": "ipython3",
   "version": "3.7.3"
  }
 },
 "nbformat": 4,
 "nbformat_minor": 2
}
