{
 "cells": [
  {
   "cell_type": "code",
   "execution_count": null,
   "metadata": {},
   "outputs": [],
   "source": [
    "# trying out splitting up names that might be a first and middle name, since currently the master has \n",
    "# no middle name column\n",
    "\n",
    "# definitely could be tweaked"
   ]
  },
  {
   "cell_type": "code",
   "execution_count": 1,
   "metadata": {},
   "outputs": [],
   "source": [
    "import pandas as pd\n",
    "import numpy as np"
   ]
  },
  {
   "cell_type": "code",
   "execution_count": 3,
   "metadata": {},
   "outputs": [],
   "source": [
    "master = pd.read_excel(\"current_master_12_9_20.xlsx\")"
   ]
  },
  {
   "cell_type": "code",
   "execution_count": 71,
   "metadata": {},
   "outputs": [],
   "source": [
    "# from https://www.galbithink.org/names/us200.htm\n",
    "# top 100 or so names for adults in 1880\n",
    "# I would mb change this though, there's some weird ones that I don't think are accurate\n",
    "names = pd.read_csv(\"names.csv\")\n",
    "names['Unnamed: 0'] = names['Unnamed: 0'].str.lower()"
   ]
  },
  {
   "cell_type": "code",
   "execution_count": 72,
   "metadata": {},
   "outputs": [
    {
     "data": {
      "text/plain": [
       "['jacob',\n",
       " 'nancy',\n",
       " 'sally',\n",
       " 'davide',\n",
       " 'betty',\n",
       " 'sophia',\n",
       " 'alice',\n",
       " 'august',\n",
       " 'augusta',\n",
       " 'alexander',\n",
       " 'robert',\n",
       " 'charlotte',\n",
       " 'martin',\n",
       " 'bella',\n",
       " 'isabella',\n",
       " 'michaela',\n",
       " 'allane',\n",
       " 'mary',\n",
       " 'cora',\n",
       " 'david',\n",
       " 'rebecca',\n",
       " 'georgina',\n",
       " 'harry',\n",
       " 'thomas',\n",
       " 'lydia',\n",
       " 'philip',\n",
       " 'john',\n",
       " 'susan',\n",
       " 'walter',\n",
       " 'francis',\n",
       " 'philipp',\n",
       " 'stepheni',\n",
       " 'william',\n",
       " 'sarah',\n",
       " 'lou',\n",
       " 'susanne',\n",
       " 'henrietta',\n",
       " 'lily',\n",
       " 'frances',\n",
       " 'ellen',\n",
       " 'eugene',\n",
       " 'peter',\n",
       " 'patrick',\n",
       " 'danielle',\n",
       " 'jane',\n",
       " 'harriett',\n",
       " 'albert',\n",
       " 'martha',\n",
       " 'agnes',\n",
       " 'emily',\n",
       " 'milicent',\n",
       " 'stephen',\n",
       " 'benjamin',\n",
       " 'caroline',\n",
       " 'frederick',\n",
       " 'julia',\n",
       " 'helen',\n",
       " 'roberto',\n",
       " 'evelyn',\n",
       " 'jesse',\n",
       " 'rose',\n",
       " 'harriet',\n",
       " 'keri',\n",
       " 'ada',\n",
       " 'minnie',\n",
       " 'james',\n",
       " 'frank',\n",
       " 'dahlia',\n",
       " 'laura',\n",
       " 'kerie',\n",
       " 'elizabeth',\n",
       " 'josephine',\n",
       " 'anne',\n",
       " 'clara',\n",
       " 'catherine',\n",
       " 'michael',\n",
       " 'charles',\n",
       " 'allan',\n",
       " 'harriette',\n",
       " 'lucy',\n",
       " 'martine',\n",
       " 'evelynne',\n",
       " 'rachell',\n",
       " 'arthur',\n",
       " 'samuel',\n",
       " 'esther',\n",
       " 'isaac',\n",
       " 'edwin',\n",
       " 'amanda',\n",
       " 'helene',\n",
       " 'ann',\n",
       " 'george',\n",
       " 'margaret',\n",
       " 'joseph',\n",
       " 'richard',\n",
       " 'helena',\n",
       " 'rachel',\n",
       " 'hannah',\n",
       " 'evelynn',\n",
       " 'edward',\n",
       " 'daniel',\n",
       " 'an',\n",
       " 'florence',\n",
       " 'henry',\n",
       " 'lewis',\n",
       " 'alfred',\n",
       " 'andrew',\n",
       " 'matilda',\n",
       " 'rachele',\n",
       " 'amelia']"
      ]
     },
     "execution_count": 72,
     "metadata": {},
     "output_type": "execute_result"
    }
   ],
   "source": [
    "names = list(set(names.iloc[:, 0]))[1:]\n",
    "names[1:10]"
   ]
  },
  {
   "cell_type": "code",
   "execution_count": null,
   "metadata": {},
   "outputs": [],
   "source": [
    "def middle_name_process(name):\n",
    "    if pd.isna(name):\n",
    "        return(np.nan, np.nan)\n",
    "    else:\n",
    "        lower_name = name.lower()\n",
    "        # first name + initial (\"SophieE\")\n",
    "        if lower_name[:-1] in names:\n",
    "            return(name[:-1], name[-1])\n",
    "        \n",
    "        # first name + two initials (\"SophieEB\")\n",
    "        elif lower_name[:-2] in names:\n",
    "            return(name[:-2], name[-2])\n",
    "        \n",
    "        # two separate names (\"Sophie Elizabeth\")\n",
    "        elif len(lower_name.split()) > 1:\n",
    "            return(name.split()[0], \" \".join(name.split()[1:]))\n",
    "            \n",
    "        # else, probably just one name \n",
    "        else:\n",
    "            return(name, np.nan)"
   ]
  }
 ],
 "metadata": {
  "kernelspec": {
   "display_name": "Python 3",
   "language": "python",
   "name": "python3"
  },
  "language_info": {
   "codemirror_mode": {
    "name": "ipython",
    "version": 3
   },
   "file_extension": ".py",
   "mimetype": "text/x-python",
   "name": "python",
   "nbconvert_exporter": "python",
   "pygments_lexer": "ipython3",
   "version": "3.7.3"
  }
 },
 "nbformat": 4,
 "nbformat_minor": 2
}
