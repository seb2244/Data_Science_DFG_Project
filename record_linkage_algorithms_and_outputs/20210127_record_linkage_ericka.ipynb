{
  "nbformat": 4,
  "nbformat_minor": 0,
  "metadata": {
    "colab": {
      "name": "2021_record_linkage",
      "provenance": [],
      "collapsed_sections": [],
      "toc_visible": true
    },
    "kernelspec": {
      "name": "python3",
      "display_name": "Python 3"
    }
  },
  "cells": [
    {
      "cell_type": "markdown",
      "metadata": {
        "id": "xCUedkqVktU_"
      },
      "source": [
        "# 1. Dataframe Preprocessing"
      ]
    },
    {
      "cell_type": "code",
      "metadata": {
        "id": "jKz2lvoGXweQ",
        "colab": {
          "base_uri": "https://localhost:8080/"
        },
        "outputId": "1e866b6f-6bab-4070-a924-50ff3bcf76d8"
      },
      "source": [
        "import pandas as pd\n",
        "!pip3 install recordlinkage\n",
        "import recordlinkage as rl\n",
        "from recordlinkage.index import Block\n",
        "from recordlinkage.preprocessing import clean\n",
        "from recordlinkage.preprocessing import phonetic\n",
        "\n",
        "# Regular expression operations\n",
        "import re"
      ],
      "execution_count": 1,
      "outputs": [
        {
          "output_type": "stream",
          "text": [
            "Collecting recordlinkage\n",
            "\u001b[?25l  Downloading https://files.pythonhosted.org/packages/db/26/babbca39d74824e8bc17428a8eb04951a1d63318af7d02beeb2106a1ec26/recordlinkage-0.14-py3-none-any.whl (944kB)\n",
            "\u001b[K     |████████████████████████████████| 952kB 8.3MB/s \n",
            "\u001b[?25hRequirement already satisfied: pandas>=0.23 in /usr/local/lib/python3.6/dist-packages (from recordlinkage) (1.1.5)\n",
            "Requirement already satisfied: joblib in /usr/local/lib/python3.6/dist-packages (from recordlinkage) (1.0.0)\n",
            "Collecting jellyfish>=0.5.4\n",
            "\u001b[?25l  Downloading https://files.pythonhosted.org/packages/6c/09/927ae35fc5a9f70abb6cc2c27ee88fc48549f7bc4786c1d4b177c22e997d/jellyfish-0.8.2-cp36-cp36m-manylinux2014_x86_64.whl (93kB)\n",
            "\u001b[K     |████████████████████████████████| 102kB 9.7MB/s \n",
            "\u001b[?25hRequirement already satisfied: scikit-learn>=0.19.0 in /usr/local/lib/python3.6/dist-packages (from recordlinkage) (0.22.2.post1)\n",
            "Requirement already satisfied: scipy>=1 in /usr/local/lib/python3.6/dist-packages (from recordlinkage) (1.4.1)\n",
            "Requirement already satisfied: numpy>=1.13.0 in /usr/local/lib/python3.6/dist-packages (from recordlinkage) (1.19.5)\n",
            "Requirement already satisfied: python-dateutil>=2.7.3 in /usr/local/lib/python3.6/dist-packages (from pandas>=0.23->recordlinkage) (2.8.1)\n",
            "Requirement already satisfied: pytz>=2017.2 in /usr/local/lib/python3.6/dist-packages (from pandas>=0.23->recordlinkage) (2018.9)\n",
            "Requirement already satisfied: six>=1.5 in /usr/local/lib/python3.6/dist-packages (from python-dateutil>=2.7.3->pandas>=0.23->recordlinkage) (1.15.0)\n",
            "Installing collected packages: jellyfish, recordlinkage\n",
            "Successfully installed jellyfish-0.8.2 recordlinkage-0.14\n"
          ],
          "name": "stdout"
        }
      ]
    },
    {
      "cell_type": "code",
      "metadata": {
        "id": "JT7LwqTaZCX1",
        "colab": {
          "base_uri": "https://localhost:8080/"
        },
        "outputId": "d866a505-1aa0-4e4d-da7d-c0c2560e902f"
      },
      "source": [
        "# mount drive\n",
        "from google.colab import drive\n",
        "drive.mount('/content/drive')"
      ],
      "execution_count": 2,
      "outputs": [
        {
          "output_type": "stream",
          "text": [
            "Mounted at /content/drive\n"
          ],
          "name": "stdout"
        }
      ]
    },
    {
      "cell_type": "code",
      "metadata": {
        "id": "LUomP4zjYgDf"
      },
      "source": [
        "# parse file\n",
        "root = \"drive/My Drive/Colab Notebooks/DFG Arenson\"\n",
        "df = pd.read_excel(root + \"/current_master_1_26_21.xlsx\")"
      ],
      "execution_count": 3,
      "outputs": []
    },
    {
      "cell_type": "code",
      "metadata": {
        "id": "tatoPHMiaKo3"
      },
      "source": [
        "# current match numerations\n",
        "lm_family = 134\n",
        "lm_ind = 2466\n",
        "im_uid = 60734"
      ],
      "execution_count": null,
      "outputs": []
    },
    {
      "cell_type": "code",
      "metadata": {
        "id": "_tCdQPGpcejB"
      },
      "source": [
        "# rename columns\n",
        "df = df.rename(columns = {# Personal Information\n",
        "                                       'Last.Name': 'last_name',\n",
        "                                       'First.Name': 'first_name', \n",
        "                                       # Places or Geography\n",
        "                                       'State/Province': 'state_or_province', \n",
        "                                       'County': 'county', \n",
        "                                       'Place': 'place', \n",
        "                                       'WARD': 'ward', \n",
        "                                       'STREET': 'street', \n",
        "                                       'PLACEOFBIRTH': 'place_of_birth',\n",
        "                                       'ROLL or Sheet#': 'roll_or_sheet',\n",
        "                                       # Years\n",
        "                                       'Census.Year': 'census_year', \n",
        "                                       'CalculatedBirthYear': 'calculated_birth_year', \n",
        "                                       # Personal information\n",
        "                                       'Sex': 'sex', \n",
        "                                       'Color..Race.or.Ethnicity': 'race',\n",
        "                                       'MARITAL': 'marital_status',\n",
        "                                       'PROFESSION': 'profession',\n",
        "                                       'Notable': 'notable',\n",
        "                                       'RELIGION': 'religion'})"
      ],
      "execution_count": 5,
      "outputs": []
    },
    {
      "cell_type": "code",
      "metadata": {
        "id": "uBXRHg1ectSB",
        "colab": {
          "base_uri": "https://localhost:8080/"
        },
        "outputId": "1ecc91f6-8ac9-42c5-8a72-1d3e38c5cba1"
      },
      "source": [
        "# master info\n",
        "df.info()"
      ],
      "execution_count": 6,
      "outputs": [
        {
          "output_type": "stream",
          "text": [
            "<class 'pandas.core.frame.DataFrame'>\n",
            "RangeIndex: 56907 entries, 0 to 56906\n",
            "Data columns (total 86 columns):\n",
            " #   Column                                         Non-Null Count  Dtype  \n",
            "---  ------                                         --------------  -----  \n",
            " 0   unique_id                                      56907 non-null  int64  \n",
            " 1   source                                         49546 non-null  object \n",
            " 2   census_year                                    50660 non-null  float64\n",
            " 3   state_or_province                              38831 non-null  object \n",
            " 4   county                                         26834 non-null  object \n",
            " 5   place                                          38547 non-null  object \n",
            " 6   unsure_ids                                     56907 non-null  object \n",
            " 7   Household Joint ID                             1284 non-null   float64\n",
            " 8   Joint ID for Matched Records                   6211 non-null   object \n",
            " 9   last_name                                      56901 non-null  object \n",
            " 10  first_name                                     56867 non-null  object \n",
            " 11  calculated_birth_year                          50009 non-null  float64\n",
            " 12  Age                                            49744 non-null  object \n",
            " 13  sex                                            55818 non-null  object \n",
            " 14  race                                           50247 non-null  object \n",
            " 15  lat                                            38018 non-null  object \n",
            " 16  long                                           49095 non-null  object \n",
            " 17  address                                        45349 non-null  object \n",
            " 18  marital_status                                 26252 non-null  object \n",
            " 19  ward                                           26451 non-null  object \n",
            " 20  roll_or_sheet                                  28100 non-null  object \n",
            " 21  profession                                     20042 non-null  object \n",
            " 22  notable                                        16013 non-null  object \n",
            " 23  street                                         26391 non-null  object \n",
            " 24  place_of_birth                                 28647 non-null  object \n",
            " 25  religion                                       28516 non-null  object \n",
            " 26  NOTE these only apply to narrative answers     27480 non-null  object \n",
            " 27  LIVING W MALE FAMILY?                          2023 non-null   float64\n",
            " 28  LIVING W FEMALE FAMILY?                        25156 non-null  float64\n",
            " 29  LIVING W MALE NONFAMILY?                       25033 non-null  float64\n",
            " 30  LIVING W FEMALE NONFAMILY?                     25033 non-null  float64\n",
            " 31  Cannot Read                                    25167 non-null  object \n",
            " 32  Cannot Write                                   25227 non-null  object \n",
            " 33  Sick                                           25033 non-null  float64\n",
            " 34  Relation to Head of Household                  25165 non-null  object \n",
            " 35  Year of Immigration to Canada if an Immigrant  25091 non-null  float64\n",
            " 36  Date of Death                                  1713 non-null   float64\n",
            " 37  Cause of Death                                 25038 non-null  float64\n",
            " 38  Rank (Military)                                25033 non-null  float64\n",
            " 39  Enlistment Date                                25032 non-null  float64\n",
            " 40  Enlistment Place                               0 non-null      float64\n",
            " 41  Date Mustered Out                              0 non-null      float64\n",
            " 42  Census record ID                               131 non-null    float64\n",
            " 43  Location ID                                    131 non-null    float64\n",
            " 44  Family ID                                      131 non-null    float64\n",
            " 45  Birth Month                                    128 non-null    float64\n",
            " 46  Birth Day                                      128 non-null    float64\n",
            " 47  Employment                                     59 non-null     object \n",
            " 48  Months school                                  19 non-null     float64\n",
            " 49  Earnings                                       43 non-null     float64\n",
            " 50  English                                        125 non-null    object \n",
            " 51  French                                         125 non-null    object \n",
            " 52  Naturalization Year                            3 non-null      float64\n",
            " 53  Age Months                                     9 non-null      float64\n",
            " 54  Mother Tongue                                  123 non-null    object \n",
            " 55  Birthplace Type                                68 non-null     object \n",
            " 56  Race                                           128 non-null    object \n",
            " 57  Nationality                                    121 non-null    object \n",
            " 58  Has Annote                                     131 non-null    float64\n",
            " 59  Page                                           75 non-null     float64\n",
            " 60  Line                                           75 non-null     float64\n",
            " 61  Directsur                                      0 non-null      float64\n",
            " 62  Directfirst                                    0 non-null      float64\n",
            " 63  Directocc                                      0 non-null      float64\n",
            " 64  Whitem                                         13 non-null     float64\n",
            " 65  Whitef                                         10 non-null     float64\n",
            " 66  Chinesem                                       0 non-null      float64\n",
            " 67  Chinesef                                       0 non-null      float64\n",
            " 68  Colouredm                                      68 non-null     float64\n",
            " 69  Colouredf                                      40 non-null     float64\n",
            " 70  Nativem                                        1 non-null      float64\n",
            " 71  Nativef                                        1 non-null      float64\n",
            " 72  Totalm                                         70 non-null     float64\n",
            " 73  Totalf                                         46 non-null     float64\n",
            " 74  Childrenm                                      18 non-null     float64\n",
            " 75  Childrenf                                      18 non-null     float64\n",
            " 76  Male birth                                     2 non-null      float64\n",
            " 77  Female birth                                   3 non-null      float64\n",
            " 78  Schoolm                                        9 non-null      float64\n",
            " 79  Schoolf                                        8 non-null      float64\n",
            " 80  Notes                                          5 non-null      object \n",
            " 81  Year of this Record                            0 non-null      float64\n",
            " 82  Last Name MATCH                                1844 non-null   float64\n",
            " 83  First Name Match                               1826 non-null   float64\n",
            " 84  Census Year Match                              1844 non-null   float64\n",
            " 85  Total of Matches                               1826 non-null   float64\n",
            "dtypes: float64(51), int64(1), object(34)\n",
            "memory usage: 37.3+ MB\n"
          ],
          "name": "stdout"
        }
      ]
    },
    {
      "cell_type": "code",
      "metadata": {
        "id": "1rcBom4ZfA5-"
      },
      "source": [
        "# chosen columns\n",
        "chosen_columns = ['last_name', \n",
        "                  'first_name',\n",
        "                  'state_or_province',\n",
        "                  'county',\n",
        "                  'place',\n",
        "                  'ward',\n",
        "                  'street',\n",
        "                  'place_of_birth',\n",
        "                  'roll_or_sheet',\n",
        "                  'lat',\n",
        "                  'long',\n",
        "                  'census_year',\n",
        "                  'calculated_birth_year',\n",
        "                  'sex',\n",
        "                  'race',\n",
        "                  'marital_status',\n",
        "                  'profession',\n",
        "                  'religion',\n",
        "                  'unique_id',\n",
        "                  'phonetic_name']"
      ],
      "execution_count": null,
      "outputs": []
    },
    {
      "cell_type": "markdown",
      "metadata": {
        "id": "x668qHgkkqPy"
      },
      "source": [
        "# 2. Standardization/normalization"
      ]
    },
    {
      "cell_type": "code",
      "metadata": {
        "id": "NYR9PsV3lBSA"
      },
      "source": [
        "import numpy as np"
      ],
      "execution_count": 9,
      "outputs": []
    },
    {
      "cell_type": "code",
      "metadata": {
        "id": "uagDk14nkbi9"
      },
      "source": [
        "#name, phonetic\n",
        "column_to_parse = ['last_name', 'first_name']\n",
        "\n",
        "for c in column_to_parse:\n",
        "  df[c] = df.apply(lambda row: str(row[c]).lower(), axis = 1)\n",
        "\n",
        "df[\"phonetic_name\"] = phonetic(df['last_name'], 'soundex')+phonetic(df['first_name'], 'soundex')"
      ],
      "execution_count": 8,
      "outputs": []
    },
    {
      "cell_type": "code",
      "metadata": {
        "id": "fOGdYNUZd9z8"
      },
      "source": [
        "# race\n",
        "def transform_race(row):    \n",
        "    \n",
        "    if pd.notnull(row['race']):\n",
        "        row['race'] = row['race'].lower()\n",
        "        row['race'] = row['race'].replace('\\xa0', '')\n",
        "        row['race'] = row['race'].replace('“', '')\n",
        "        row['race'] = row['race'].replace('”', '')\n",
        "    \n",
        "    race_dict = {'mulatto(blackandwhite)': 'MIXED',\n",
        "                 'm(wonancestry.com)': 'MIXED',\n",
        "                 'mulatto': 'MIXED',\n",
        "                 'mullato': 'MIXED',\n",
        "                 'm': 'MIXED',\n",
        "                 'm(winancestry.com)': 'MIXED',\n",
        "                 'black': 'BLACK',\n",
        "                 'b': 'BLACK',\n",
        "                 'blk': 'BLACK',\n",
        "                 'brown': 'BLACK',\n",
        "                 'african': 'BLACK',\n",
        "                 'dark': 'BLACK',\n",
        "                 'drk': 'BLACK',\n",
        "                 'african (black)': 'BLACK',\n",
        "                 'negro': 'BLACK',\n",
        "                 'blacj': 'BLACK', \n",
        "                 'bkj': 'BLACK', \n",
        "                 'light': 'WHITE',\n",
        "                 'white': 'WHITE',\n",
        "                 'w': 'WHITE',\n",
        "                 '[w]': 'WHITE',\n",
        "                 'white': 'WHITE',\n",
        "                 'seems to be white': 'WHITE',\n",
        "                 'white in black household': 'WHITE',\n",
        "                 'white but passing': 'WHITE',\n",
        "                 'ancestrysaysw': 'WHITE',\n",
        "                 'swarthy': 'BLACK',\n",
        "                 'd. brown': 'BLACK',\n",
        "                 'col.d': 'BLACK',\n",
        "                 'col\\'d': 'BLACK',\n",
        "                 }\n",
        "    if row['race'] in race_dict.keys():\n",
        "      return race_dict[row['race']]\n",
        "    elif pd.notnull(row['race']):\n",
        "      return 'OTHERS'\n",
        "    else:\n",
        "     return row['race']\n",
        "\n",
        "df['race'] = df.apply(lambda row: transform_race(row), axis = 1)"
      ],
      "execution_count": 7,
      "outputs": []
    },
    {
      "cell_type": "code",
      "metadata": {
        "colab": {
          "base_uri": "https://localhost:8080/"
        },
        "id": "8iJv3gFfeJ35",
        "outputId": "98a06a6a-cbb6-4d6b-afc5-0617ab01af32"
      },
      "source": [
        "df['race'].unique()"
      ],
      "execution_count": null,
      "outputs": [
        {
          "output_type": "execute_result",
          "data": {
            "text/plain": [
              "array(['WHITE', 'BLACK', 'OTHERS', 'MIXED', nan], dtype=object)"
            ]
          },
          "metadata": {
            "tags": []
          },
          "execution_count": 33
        }
      ]
    },
    {
      "cell_type": "code",
      "metadata": {
        "id": "RjHwLJZkqqKU"
      },
      "source": [
        "# locations (nameparser, fuzzy matching)\n",
        "def transform_state(row):    \n",
        "    \"\"\"\n",
        "    This function uses a dictionary\n",
        "    to covert historical or non-abbreviated states or provinces\n",
        "    into abbreviated form. \n",
        "    An important notice is that Canada West will all be converted into ON (Ontario).\n",
        "    Unknown values: PANA, ITER, MIL.\n",
        "    \"\"\"\n",
        "    state_dict = {'CanadaWest': 'ON',\n",
        "                  'Ontario': 'ON',\n",
        "                  'Canada West': 'ON',\n",
        "                  'Pennsylvania': 'PA',\n",
        "                  'Illinois': 'IL',\n",
        "                  'Wisconsin': 'WI',\n",
        "                  'District of Columbia': 'DC',\n",
        "                  'Alabama': 'AL',\n",
        "                  'Vermont': 'VT',\n",
        "                  'Michigan': 'MI',\n",
        "                  'Ohio': 'OH',\n",
        "                  'Massachussetts': 'MA',\n",
        "                  'Virginia': 'VA',\n",
        "                  'Canada West (Ontario)': 'ON',\n",
        "                  'New York': 'NY',\n",
        "                  'toledo': 'OH'}\n",
        "    \n",
        "    if row['state_or_province'] in state_dict.keys():\n",
        "        return state_dict[row['state_or_province']]\n",
        "    else:\n",
        "        return row['state_or_province']\n",
        "\n",
        "df['state_or_province'] = df.apply(lambda row: transform_state(row), axis = 1) "
      ],
      "execution_count": null,
      "outputs": []
    },
    {
      "cell_type": "code",
      "metadata": {
        "id": "gOdd9aLlqp5i"
      },
      "source": [
        "# dates\n",
        "import datetime\n",
        "def prc_year(row, year_col):\n",
        "    \"\"\"\n",
        "    Processing birth year.\n",
        "    If birth year is not a number, not in a date format, or is noncompliant,\n",
        "    it will be converted to NaN.\n",
        "    \"\"\"\n",
        "    \n",
        "    # Helper functions\n",
        "    def is_number(num):\n",
        "        try:\n",
        "            float(num)\n",
        "            return True\n",
        "        except ValueError:\n",
        "            return False\n",
        "    if (type(row[year_col]) is datetime.datetime):\n",
        "        row[year_col] = row[year_col].strftime(\"%Y\")\n",
        "    non_compliant_values = ['-', 'F', '#VALUE!']\n",
        "    if row[year_col] in non_compliant_values or pd.isnull(row[year_col]):\n",
        "        return np.nan\n",
        "    elif is_number(row[year_col]):\n",
        "        return float(row[year_col])\n",
        "    elif re.findall('\\d{4}', row[year_col]):\n",
        "        return min([float(i) for i in re.findall('\\d{4}', row[year_col])])\n",
        "    else:\n",
        "        return np.nan\n",
        "\n",
        "df['calculated_birth_year'] = df.apply(lambda row: prc_year(row, 'calculated_birth_year'),\n",
        "                                       axis = 1)\n",
        "df['census_year'] = df.apply(lambda row: prc_year(row, 'census_year'),\n",
        "                             axis = 1)"
      ],
      "execution_count": null,
      "outputs": []
    },
    {
      "cell_type": "code",
      "metadata": {
        "id": "0uLjRKamrDaF"
      },
      "source": [
        "# clean place of birth\n",
        "def transform_birthplace(row):    \n",
        "    \"\"\"\n",
        "    This function uses a dictionary\n",
        "    to covert places of birth to cleaner strings\n",
        "    \"\"\"\n",
        "    if pd.notnull(row['place_of_birth']):\n",
        "      row['place_of_birth'] = str(row['place_of_birth'])\n",
        "      row['place_of_birth'] = row['place_of_birth'].lower()\n",
        "      row['place_of_birth'] = row['place_of_birth'].replace('\\xa0', '')\n",
        "      row['place_of_birth'] = row['place_of_birth'].replace('“', '')\n",
        "      row['place_of_birth'] = row['place_of_birth'].replace('”', '')\n",
        "      row['place_of_birth'] = row['place_of_birth'].replace('(', '')\n",
        "      row['place_of_birth'] = row['place_of_birth'].replace(')', '')\n",
        "      row['place_of_birth'] = row['place_of_birth'].replace('[', '')\n",
        "      row['place_of_birth'] = row['place_of_birth'].replace(']', '')\n",
        " \n",
        "      return row['place_of_birth']\n",
        "\n",
        "df['place_of_birth'] = df.apply(lambda row: transform_birthplace(row), axis = 1) "
      ],
      "execution_count": null,
      "outputs": []
    },
    {
      "cell_type": "code",
      "metadata": {
        "colab": {
          "base_uri": "https://localhost:8080/"
        },
        "id": "j3MM07P6w_FL",
        "outputId": "aa7ae3a4-5158-42f2-e26e-6391646a7bac"
      },
      "source": [
        "df['place_of_birth'].unique()"
      ],
      "execution_count": null,
      "outputs": [
        {
          "output_type": "execute_result",
          "data": {
            "text/plain": [
              "array(['usa', 'canada, english', 'windsor', 'canada', 'virginia', 'u.s.',\n",
              "       'kentucky', 'tennessee', 'northcarolina', 'canadawest',\n",
              "       'north carolina', None, 'ohio', 'maryland', 'district columbia',\n",
              "       'districtcolumbia', 'missouri', 'ontario', '-', 'uc', 'us',\n",
              "       'united states', 'u. states', 'southcarolina', 'chatham', 'mexico',\n",
              "       'new mexico', 'newyork', 'o ontario', 'w',\n",
              "       'do meaning u canada upper canada', 'u states', 'maryland, u.s.',\n",
              "       'states united states', 'washington', 'pennsylvania', 'deleware',\n",
              "       'indiana, u.s.', 'indiana', 'richmond, ind. indiana', 'u.s.a.',\n",
              "       'u s', 'richmond co county indiana us', 'blank', 'kentucky, u.s.',\n",
              "       'u.c.', 'missiouri', 'massachusetts', 'cw', 'newjersey',\n",
              "       'michigan', 'georgia', 'ny', 'canada or virginia or michigan',\n",
              "       'uc meaning upper canada', 'ont ontario', 'milwaukie',\n",
              "       'cincinnati', 'alabama', 'mississippi', 'stlouism', 'arkansas',\n",
              "       'windsor, canada', 'wisconsin', 'illinois', 'neworleans',\n",
              "       'lowercanada', 'delaware', 'detroit', 'sandwich', 'canadaw',\n",
              "       'u. canada', 'kansas', 'philadelphia', 'amherstburg',\n",
              "       'west virginia', 'new brunswick', 'nova scotia', 'maine',\n",
              "       'louisiana', 'domeaningindiana', 'england',\n",
              "       'covington, kentucky, usa', '31010', 'unitedkingdom,n.s.',\n",
              "       'ireland', '21270', 'nova scotia or not stated?', 'germany', '1',\n",
              "       'va', '5', '26', '99999', 'sweden', '22060', '41050', '22000',\n",
              "       'sco', '21040', '44080', 'mo', '43060', '23040',\n",
              "       'othercaribbeanandn.s.', '24010', '15030', 'chatham, cw', '21080',\n",
              "       'win', 'md', '44030', 'iowa', 'ky', '21140', '43120',\n",
              "       'canada west', 'can', 'kerrigan,, canada',\n",
              "       'not in fold3 quick - check others', 'pa', '23990', '19999', 'wi',\n",
              "       'il', 'ga', '23010', '21130', 'amherstburg, cw', '44090', 'sc',\n",
              "       'british columbia', 'toronto, cw residence rochester, ny', 'afr',\n",
              "       '20', '44043', 'guelph, canada', '24990', '51010', '3',\n",
              "       'norwich twp, cw', 'ire', '80000', 'italy', '43090', '42010',\n",
              "       'sam',\n",
              "       'benjamin f. talbot of seaforth, canada west was one such recruit. he joined the 5th usct as william thurman and gave his nationality as american although he returned to canada west as soon as he was mustered out. william thurman, civil war pension file, rg 94, national archives.',\n",
              "       'toronto, cw', 'halifax, ns',\n",
              "       'hamilton. cw residence blanford, ma.', '18', '31', '24', 'eng',\n",
              "       '25', '42090', 'st. catherines, cw', '52010', 'lc', 'nsc',\n",
              "       'st john, nb', 'black', 'guisbury n. scotia', 'harwich, cw', '102',\n",
              "       'malden, cw', '21050', '41030', '21210', '21230',\n",
              "       'not in fold3 - check other', 'montreal, ce', 'montreal, cw',\n",
              "       'tksortbylat-long,orlastnamefirstnamebirththenlatlongor..?',\n",
              "       '32040', '34151', 'srcathermes', '51000', '49999', 'stcathermes',\n",
              "       '55', 'little york, cw', 'prince edward island', 'sandwich, cw',\n",
              "       'vicksburg', 'stlouis', 'london, cw', '. canada', 'pru',\n",
              "       'hamilton, cw', 'kingston, cw', 'quebec, ce', 'new york', 'ma',\n",
              "       'chathamcw', 'done', 'buxton, cw', 'canada,',\n",
              "       'canada residence boston', 'mailstone, canada', '44010', '41080',\n",
              "       'virginia or michigan or canada', 'memphis tn', 'canada ba',\n",
              "       'st. stephens, new brunswick', '44020', '38', 'al',\n",
              "       'gardsborough, ns', 'mi', '39990', 'canada east',\n",
              "       'domeaningmichigan', 'westindies', 'de', '23', 'windsor, cw',\n",
              "       'woodstock, cw', '15070', 'nassau, nb', 'essex co., cw',\n",
              "       'toronto, canada', 'niagara, cw', '42040', 'niagara, canada',\n",
              "       'st johns, new brunswick', 'canada british canadian', 'nj',\n",
              "       'kingston, canada west', '41020', 'st. johns new brunswick',\n",
              "       'st. johns, nb.', 'montreal, ce residence, greenfield, ma.',\n",
              "       'toronto, canada w.', 'st. johns, n. brunswick',\n",
              "       'amherstburg, cw residence malden, cw, postwar ypsilanti, mich',\n",
              "       'st. andrews, nb', 'indianna', 'upper canada', 'gosfield, canada',\n",
              "       'connecticut', 'kent co., cw', 'fingal co. canada', 'toronto',\n",
              "       'canada w.', 'hai', '21100', 'montrreal, canada',\n",
              "       'n.b. same residence', 'pei', 'st. andrews, n brunswick',\n",
              "       'vermont', 'lisa', '21150', 'tennesse', 'canadian',\n",
              "       'canada same residence', 'canada british province', 'kent co, cw',\n",
              "       '15140', 'lellyport ?, canada', 'st. andres, n. brunswick',\n",
              "       'toronto, cw residence urbana, ohio', 'london, ontario',\n",
              "       'north caroline', 'texas', 'minnesota', 'colorado', 'alaska',\n",
              "       'chatham, canada', 'canada english', 'st croix', 'arizona',\n",
              "       'victoria bc', 'british columbia, canada', 'east indies',\n",
              "       'jamaica', 'spain', 'barbados', 'tennessee, united states',\n",
              "       'west indies', 'ontario, canada', 'st helena',\n",
              "       'pennsylvania, united states'], dtype=object)"
            ]
          },
          "metadata": {
            "tags": []
          },
          "execution_count": 37
        }
      ]
    },
    {
      "cell_type": "code",
      "metadata": {
        "id": "JEhnJSfFphNv"
      },
      "source": [
        "# fill empty columns\n",
        "columns_to_impute_with_unknown = ['state_or_province',\n",
        "                                  'county',\n",
        "                                  'place',\n",
        "                                  'ward',\n",
        "                                  'street',\n",
        "                                  'place_of_birth',\n",
        "                                  'sex',\n",
        "                                  'race',\n",
        "                                  'marital_status',\n",
        "                                  'profession',\n",
        "                                  'religion']\n",
        "\n",
        "for i in columns_to_impute_with_unknown:\n",
        "    df[i] = df[i].fillna('unknown')\n",
        "\n",
        "columns_to_impute_with_zero = ['roll_or_sheet',\n",
        "                               'lat',\n",
        "                               'long',]\n",
        "\n",
        "for i in columns_to_impute_with_zero:\n",
        "    df[i] = df[i].fillna(0)"
      ],
      "execution_count": null,
      "outputs": []
    },
    {
      "cell_type": "code",
      "metadata": {
        "id": "xqYl-saGLM3G"
      },
      "source": [
        "# dealing with the 'unknowns'\n",
        "chrs = 'abcdefghijklmnopqrstuvwxyz0123456789 '\n",
        "\n",
        "location_columns = ['county', 'place', 'place_of_birth', 'state_or_province']\n",
        "\n",
        "count = 0\n",
        "\n",
        "for i, row in df.iterrows():\n",
        "    if all([row[i] == 'unknown' for i in location_columns]):\n",
        "      continue\n",
        "    else:\n",
        "      for l in location_columns:\n",
        "        c = \"\".join(np.random.choice(list(chrs), 20))\n",
        "        row[l] = c"
      ],
      "execution_count": null,
      "outputs": []
    },
    {
      "cell_type": "markdown",
      "metadata": {
        "id": "0z0TszwdksXQ"
      },
      "source": [
        "# 3. Linkage"
      ]
    },
    {
      "cell_type": "code",
      "metadata": {
        "id": "_PPMBNc3j84w"
      },
      "source": [
        "# match all\n",
        "df1 = df[chosen_columns]\n",
        "df2 = df[chosen_columns]\n",
        "\n",
        "# block on phoenetic full name\n",
        "indexer = rl.Index()\n",
        "indexer.add(Block('phonetic_name', 'phonetic_name'))\n",
        "record_links = indexer.index(df1, df2)\n"
      ],
      "execution_count": null,
      "outputs": []
    },
    {
      "cell_type": "code",
      "metadata": {
        "colab": {
          "base_uri": "https://localhost:8080/"
        },
        "id": "WJ83sKYkRPn2",
        "outputId": "288999de-1129-4737-ba20-8d7497ae1044"
      },
      "source": [
        "df[pd.isnull(df['Joint ID for Matched Records'])].shape\n"
      ],
      "execution_count": null,
      "outputs": [
        {
          "output_type": "execute_result",
          "data": {
            "text/plain": [
              "(50714, 86)"
            ]
          },
          "metadata": {
            "tags": []
          },
          "execution_count": 41
        }
      ]
    },
    {
      "cell_type": "code",
      "metadata": {
        "id": "5Ueo2GPEpcts"
      },
      "source": [
        "# unmatched VS matched\n",
        "# df_withmatch = df[pd.notnull(df['Joint ID for Matched Records'])]\n",
        "# df_nomatch = df[pd.isnull(df['Joint ID for Matched Records'])]\n",
        "# chosen_columns.append(\"phonetic_name\")\n",
        "\n",
        "# df_withmatch = df_withmatch[chosen_columns]\n",
        "# df_nomatch = df_nomatch[chosen_columns]\n",
        "\n",
        "# indexer = rl.Index()\n",
        "# indexer.add(Block('phonetic_name', 'phonetic_name'))\n",
        "# record_links = indexer.index(df_withmatch, df_nomatch)"
      ],
      "execution_count": null,
      "outputs": []
    },
    {
      "cell_type": "code",
      "metadata": {
        "colab": {
          "base_uri": "https://localhost:8080/"
        },
        "id": "xrpp4CXSj7bZ",
        "outputId": "a6f17f82-3311-4189-bfbe-0813fcce58f9"
      },
      "source": [
        "comparer = rl.Compare()\n",
        "comparer.string('first_name', 'first_name', method = 'jarowinkler', threshold = 0.85, label = 'first_name')\n",
        "comparer.string('last_name', 'last_name', method = 'jarowinkler', threshold = 0.85, label = 'last_name')\n",
        "comparer.string('state_or_province', 'state_or_province', method = 'jarowinkler', threshold = 0.5, \n",
        "                label = 'state_or_province')\n",
        "comparer.string('county', 'county', method = 'jarowinkler', threshold = 0.35, label = 'county')\n",
        "comparer.string('place', 'place', method = 'jarowinkler', threshold = 0.35, label = 'place')\n",
        "comparer.string('place_of_birth', 'place_of_birth', method = 'jarowinkler', threshold = 0.6, label = 'place_of_birth')\n",
        "comparer.string('race', 'race', method = 'jarowinkler', threshold = 0.7, label = 'race')\n",
        "comparer.string('sex', 'sex', method = 'jarowinkler', threshold = 0.7, label = 'sex')\n",
        "\n",
        "comparer.numeric('calculated_birth_year', 'calculated_birth_year', \n",
        "                 method = 'gauss', \n",
        "                 offset = 1, \n",
        "                 scale = 1, \n",
        "                 label = 'calculated_birth_year')"
      ],
      "execution_count": null,
      "outputs": [
        {
          "output_type": "execute_result",
          "data": {
            "text/plain": [
              "<Compare>"
            ]
          },
          "metadata": {
            "tags": []
          },
          "execution_count": 43
        }
      ]
    },
    {
      "cell_type": "markdown",
      "metadata": {
        "id": "jIkvZhHJj8ME"
      },
      "source": [
        "Output Processing"
      ]
    },
    {
      "cell_type": "code",
      "metadata": {
        "id": "YJRvgeQKq3nH"
      },
      "source": [
        "import sys\n",
        "sys.setrecursionlimit(1000000)"
      ],
      "execution_count": null,
      "outputs": []
    },
    {
      "cell_type": "code",
      "metadata": {
        "id": "LIrPaUJblpTj"
      },
      "source": [
        "compare_vectors_rl = comparer.compute(record_links, df1, df2)"
      ],
      "execution_count": null,
      "outputs": []
    },
    {
      "cell_type": "code",
      "metadata": {
        "id": "w-RU3e_q6Rr3"
      },
      "source": [
        "result_rl = compare_vectors_rl[((compare_vectors_rl['first_name'] == 1.0) & \n",
        "                                (compare_vectors_rl['last_name'] == 1.0)) &\n",
        "                               ((compare_vectors_rl['state_or_province'] == 1.0) |\n",
        "                                (compare_vectors_rl['county'] == 1.0) |\n",
        "                                (compare_vectors_rl['place'] == 1.0) |\n",
        "                                (compare_vectors_rl['place_of_birth'] == 1.0)) &\n",
        "                               (compare_vectors_rl['sex'] == 1.0) &\n",
        "                               (compare_vectors_rl['race'] == 1.0) &\n",
        "                               (compare_vectors_rl['calculated_birth_year'] > compare_vectors_rl['calculated_birth_year'].mean())]\n",
        "                               reset_index()\n",
        "\n",
        "result_rl = result_rl[result_rl['level_0'] != result_rl['level_1']].reset_index()\n",
        "result_rl.drop('index', axis = 1, inplace = True)"
      ],
      "execution_count": null,
      "outputs": []
    },
    {
      "cell_type": "code",
      "metadata": {
        "id": "jEfXul4Upc1U"
      },
      "source": [
        "def create_indexid(row):\n",
        "    return \"\".join(sorted([str(int(i)) for i in [row['level_0'], row['level_1']]]))\n",
        "\n",
        "result_rl['indexid'] = result_rl.apply(lambda row: create_indexid(row), axis = 1)\n",
        "result_rl = result_rl.drop_duplicates('indexid')"
      ],
      "execution_count": null,
      "outputs": []
    },
    {
      "cell_type": "code",
      "metadata": {
        "id": "Gb-ZkkFHpgst"
      },
      "source": [
        "df_result_rl = pd.DataFrame()\n",
        "\n",
        "for i in zip(result_rl['level_0'], result_rl['level_1']):\n",
        "  first = df.iloc[i[0]]\n",
        "  second = df.iloc[i[1]]\n",
        "  if first[\"Joint ID for Matched Records\"] != second[\"Joint ID for Matched Records\"]:\n",
        "    df_result_rl = df_result_rl.append(first)\n",
        "    df_result_rl = df_result_rl.append(second)  "
      ],
      "execution_count": null,
      "outputs": []
    },
    {
      "cell_type": "code",
      "metadata": {
        "id": "fmFaIuG-phbk",
        "colab": {
          "base_uri": "https://localhost:8080/"
        },
        "outputId": "ed1f2487-d63e-4ee8-d561-a2daf8c7c3c5"
      },
      "source": [
        "df_result_rl.reset_index(inplace = True)\n",
        "df_result_rl = df_result_rl.drop('index', axis = 1)\n",
        "df_result_rl.head()\n",
        "df_result_rl.shape"
      ],
      "execution_count": null,
      "outputs": [
        {
          "output_type": "execute_result",
          "data": {
            "text/plain": [
              "(4108, 87)"
            ]
          },
          "metadata": {
            "tags": []
          },
          "execution_count": 62
        }
      ]
    },
    {
      "cell_type": "code",
      "metadata": {
        "id": "pAnER6MypjSX"
      },
      "source": [
        "num_list = []\n",
        "for i in range(int(df_result_rl.shape[0]/2)):\n",
        "    num_list.append(i)\n",
        "    num_list.append(i)\n",
        "df_result_rl['dup_pair'] = pd.Series(num_list)"
      ],
      "execution_count": null,
      "outputs": []
    },
    {
      "cell_type": "code",
      "metadata": {
        "id": "JM6YkhVxplTj"
      },
      "source": [
        "col_order = ['dup_pair']\n",
        "col_order.extend(df.columns.tolist())\n",
        "df_result_rl = df_result_rl[col_order]\n",
        "output = root + \"/newmatches-01-03-21.xlsx\"\n",
        "df_result_rl.to_excel(output)"
      ],
      "execution_count": null,
      "outputs": []
    },
    {
      "cell_type": "code",
      "metadata": {
        "colab": {
          "base_uri": "https://localhost:8080/",
          "height": 224
        },
        "id": "eN-zNDY8oI1w",
        "outputId": "d1b55543-f5e4-48f9-902b-4d8e0b92c977"
      },
      "source": [
        "result_rl.head()"
      ],
      "execution_count": null,
      "outputs": [
        {
          "output_type": "execute_result",
          "data": {
            "text/html": [
              "<div>\n",
              "<style scoped>\n",
              "    .dataframe tbody tr th:only-of-type {\n",
              "        vertical-align: middle;\n",
              "    }\n",
              "\n",
              "    .dataframe tbody tr th {\n",
              "        vertical-align: top;\n",
              "    }\n",
              "\n",
              "    .dataframe thead th {\n",
              "        text-align: right;\n",
              "    }\n",
              "</style>\n",
              "<table border=\"1\" class=\"dataframe\">\n",
              "  <thead>\n",
              "    <tr style=\"text-align: right;\">\n",
              "      <th></th>\n",
              "      <th>level_0</th>\n",
              "      <th>level_1</th>\n",
              "      <th>first_name</th>\n",
              "      <th>last_name</th>\n",
              "      <th>state_or_province</th>\n",
              "      <th>county</th>\n",
              "      <th>place</th>\n",
              "      <th>place_of_birth</th>\n",
              "      <th>race</th>\n",
              "      <th>sex</th>\n",
              "      <th>calculated_birth_year</th>\n",
              "      <th>indexid</th>\n",
              "    </tr>\n",
              "  </thead>\n",
              "  <tbody>\n",
              "    <tr>\n",
              "      <th>0</th>\n",
              "      <td>6</td>\n",
              "      <td>50329</td>\n",
              "      <td>1.0</td>\n",
              "      <td>1.0</td>\n",
              "      <td>1.0</td>\n",
              "      <td>1.0</td>\n",
              "      <td>0.0</td>\n",
              "      <td>1.0</td>\n",
              "      <td>1.0</td>\n",
              "      <td>1.0</td>\n",
              "      <td>1.0</td>\n",
              "      <td>503296</td>\n",
              "    </tr>\n",
              "    <tr>\n",
              "      <th>2</th>\n",
              "      <td>30</td>\n",
              "      <td>50295</td>\n",
              "      <td>1.0</td>\n",
              "      <td>1.0</td>\n",
              "      <td>1.0</td>\n",
              "      <td>1.0</td>\n",
              "      <td>1.0</td>\n",
              "      <td>1.0</td>\n",
              "      <td>1.0</td>\n",
              "      <td>1.0</td>\n",
              "      <td>1.0</td>\n",
              "      <td>3050295</td>\n",
              "    </tr>\n",
              "    <tr>\n",
              "      <th>4</th>\n",
              "      <td>7598</td>\n",
              "      <td>7599</td>\n",
              "      <td>1.0</td>\n",
              "      <td>1.0</td>\n",
              "      <td>0.0</td>\n",
              "      <td>1.0</td>\n",
              "      <td>1.0</td>\n",
              "      <td>1.0</td>\n",
              "      <td>1.0</td>\n",
              "      <td>1.0</td>\n",
              "      <td>1.0</td>\n",
              "      <td>75987599</td>\n",
              "    </tr>\n",
              "    <tr>\n",
              "      <th>6</th>\n",
              "      <td>7035</td>\n",
              "      <td>7361</td>\n",
              "      <td>1.0</td>\n",
              "      <td>1.0</td>\n",
              "      <td>1.0</td>\n",
              "      <td>1.0</td>\n",
              "      <td>1.0</td>\n",
              "      <td>0.0</td>\n",
              "      <td>1.0</td>\n",
              "      <td>1.0</td>\n",
              "      <td>1.0</td>\n",
              "      <td>70357361</td>\n",
              "    </tr>\n",
              "    <tr>\n",
              "      <th>7</th>\n",
              "      <td>7226</td>\n",
              "      <td>7631</td>\n",
              "      <td>1.0</td>\n",
              "      <td>1.0</td>\n",
              "      <td>1.0</td>\n",
              "      <td>0.0</td>\n",
              "      <td>1.0</td>\n",
              "      <td>0.0</td>\n",
              "      <td>1.0</td>\n",
              "      <td>1.0</td>\n",
              "      <td>1.0</td>\n",
              "      <td>72267631</td>\n",
              "    </tr>\n",
              "  </tbody>\n",
              "</table>\n",
              "</div>"
            ],
            "text/plain": [
              "   level_0  level_1  first_name  ...  sex  calculated_birth_year   indexid\n",
              "0        6    50329         1.0  ...  1.0                    1.0    503296\n",
              "2       30    50295         1.0  ...  1.0                    1.0   3050295\n",
              "4     7598     7599         1.0  ...  1.0                    1.0  75987599\n",
              "6     7035     7361         1.0  ...  1.0                    1.0  70357361\n",
              "7     7226     7631         1.0  ...  1.0                    1.0  72267631\n",
              "\n",
              "[5 rows x 12 columns]"
            ]
          },
          "metadata": {
            "tags": []
          },
          "execution_count": 65
        }
      ]
    },
    {
      "cell_type": "code",
      "metadata": {
        "colab": {
          "base_uri": "https://localhost:8080/",
          "height": 232
        },
        "id": "73yhLA6h6ZpT",
        "outputId": "41c91b60-12dc-4f26-d659-adaeb6e6cf8b"
      },
      "source": [
        "# name only matching\n",
        "\n",
        "# unmatched VS matched\n",
        "df_withmatch = df[pd.notnull(df['Joint ID for Matched Records'])]\n",
        "df_nomatch = df[pd.isnull(df['Joint ID for Matched Records'])]\n",
        "\n",
        "df_withmatch = df_withmatch[chosen_columns]\n",
        "df_nomatch = df_nomatch[chosen_columns]\n",
        "\n",
        "# block on phoenetic full name\n",
        "indexer = rl.Index()\n",
        "indexer.add(Block('phonetic_name', 'phonetic_name'))\n",
        "record_links = indexer.index(df_withmatch, df_nomatch)\n",
        "\n",
        "compare_vectors_rl_ner = comparer.compute(record_links, df_withmatch, df_nomatch)\n",
        "\n",
        "result_rl_ner = compare_vectors_rl_ner[((compare_vectors_rl['first_name'] == 1.0) & \n",
        "                                (compare_vectors_rl['last_name'] == 1.0))]\n",
        "\n",
        "result_rl_ner = result_rl_ner[result_rl_ner['level_0'] != result_rl_ner['level_1']].reset_index()\n",
        "result_rl_ner.drop('index', axis = 1, inplace = True)\n",
        "\n",
        "df_result_rl_ner = pd.DataFrame()\n",
        "\n",
        "for i in zip(result_rl['level_0'], result_rl['level_1']):\n",
        "  first = df.iloc[i[0]]\n",
        "  second = df.iloc[i[1]]\n",
        "  if first[\"Joint ID for Matched Records\"] != second[\"Joint ID for Matched Records\"]:\n",
        "    df_result_rl_ner = df_result_rl.append(first)\n",
        "    df_result_rl_ner = df_result_rl.append(second)  \n",
        "\n",
        "df_result_rl_ner.reset_index(inplace = True)\n",
        "df_result_rl_ner = df_result_rl_ner.drop('index', axis = 1)\n",
        "df_result_rl_ner.head()\n",
        "df_result_rl_ner.shape\n",
        "\n",
        "num_list = []\n",
        "for i in range(int(df_result_rl_ner.shape[0]/2)):\n",
        "    num_list.append(i)\n",
        "    num_list.append(i)\n",
        "df_result_rl_ner['dup_pair'] = pd.Series(num_list)\n",
        "\n",
        "col_order = ['dup_pair']\n",
        "col_order.extend(df.columns.tolist())\n",
        "df_result_rl_ner = df_result_rl_ner[col_order]\n",
        "output = root + \"/nermatches-01-27-21.xlsx\"\n",
        "df_result_rl_ner.to_excel(output)"
      ],
      "execution_count": 5,
      "outputs": [
        {
          "output_type": "error",
          "ename": "NameError",
          "evalue": "ignored",
          "traceback": [
            "\u001b[0;31m---------------------------------------------------------------------------\u001b[0m",
            "\u001b[0;31mNameError\u001b[0m                                 Traceback (most recent call last)",
            "\u001b[0;32m<ipython-input-5-acc7ae1e2dbd>\u001b[0m in \u001b[0;36m<module>\u001b[0;34m()\u001b[0m\n\u001b[1;32m      1\u001b[0m \u001b[0;31m# NER matching (name only)\u001b[0m\u001b[0;34m\u001b[0m\u001b[0;34m\u001b[0m\u001b[0;34m\u001b[0m\u001b[0m\n\u001b[0;32m----> 2\u001b[0;31m \u001b[0mcompare_vectors_rl_ner\u001b[0m \u001b[0;34m=\u001b[0m \u001b[0mcomparer\u001b[0m\u001b[0;34m.\u001b[0m\u001b[0mcompute\u001b[0m\u001b[0;34m(\u001b[0m\u001b[0mrecord_links\u001b[0m\u001b[0;34m,\u001b[0m \u001b[0mdf1\u001b[0m\u001b[0;34m,\u001b[0m \u001b[0mdf2\u001b[0m\u001b[0;34m)\u001b[0m\u001b[0;34m\u001b[0m\u001b[0;34m\u001b[0m\u001b[0m\n\u001b[0m\u001b[1;32m      3\u001b[0m \u001b[0;34m\u001b[0m\u001b[0m\n\u001b[1;32m      4\u001b[0m result_rl_ner = compare_vectors_rl_ner[((compare_vectors_rl['first_name'] == 1.0) & \n\u001b[1;32m      5\u001b[0m                                 (compare_vectors_rl['last_name'] == 1.0))]\n",
            "\u001b[0;31mNameError\u001b[0m: name 'comparer' is not defined"
          ]
        }
      ]
    }
  ]
}