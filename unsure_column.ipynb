{
 "cells": [
  {
   "cell_type": "markdown",
   "metadata": {},
   "source": [
    "this takes in a dataframe with a list of unsure/non-pairs and their unique ids and outputs an \"unsure\" or \"no\" column to the master database \n",
    "\n",
    "note: I didn't use unsure \"ids\" like match ids because the transitive property doesn't apply in the same way, i.e. if A is matched w/ B and C, then B and C must be matches but if A is unsure with B and C, it's possible that B and C is a valid match and should be looked at. so instead of a match id it's just a list of all the ids that it matched with. "
   ]
  },
  {
   "cell_type": "code",
   "execution_count": 1,
   "metadata": {},
   "outputs": [],
   "source": [
    "import pandas as pd\n",
    "import numpy as np"
   ]
  },
  {
   "cell_type": "code",
   "execution_count": 2,
   "metadata": {},
   "outputs": [],
   "source": [
    "df = pd.read_excel(\"no_column_2_10_21.xlsx\")"
   ]
  },
  {
   "cell_type": "code",
   "execution_count": 3,
   "metadata": {},
   "outputs": [],
   "source": [
    "master = pd.read_excel(\"current_master_02_8_21.xlsx\")"
   ]
  },
  {
   "cell_type": "code",
   "execution_count": 4,
   "metadata": {},
   "outputs": [],
   "source": [
    "# creates column of empty lists\n",
    "master['no_ids'] = np.empty((len(master), 0)).tolist()\n",
    "#master['unsure_ids'] = np.empty((len(master), 0)).tolist()\n",
    "\n",
    "\n",
    "for i in range(0, len(df.index), 2):\n",
    "    # pull out two unique ids\n",
    "    id_1 = df.loc[i, 'unique_id']\n",
    "    id_2 = df.loc[i + 1, 'unique_id']\n",
    "    \n",
    "    # sometimes unique id isn't in master anymore since the file has been deleted, check for that here\n",
    "    if (len(master[master['unique_id'] == id_1].index) == 0) | (len(master[master['unique_id'] == id_2].index) == 0):\n",
    "        continue\n",
    "    \n",
    "    # find them in master\n",
    "    master_index_1 = master[master['unique_id'] == id_1].index.tolist()\n",
    "    master_index_2 = master[master['unique_id'] == id_2].index.tolist()\n",
    "    \n",
    "    # assign unsure ids\n",
    "    master.loc[master.index[master_index_1], 'no_ids'].item().append(id_2)\n",
    "    master.loc[master.index[master_index_2], 'no_ids'].item().append(id_1)"
   ]
  },
  {
   "cell_type": "code",
   "execution_count": 5,
   "metadata": {},
   "outputs": [
    {
     "ename": "ValueError",
     "evalue": "cannot convert float NaN to integer",
     "output_type": "error",
     "traceback": [
      "\u001b[0;31m---------------------------------------------------------------------------\u001b[0m",
      "\u001b[0;31mValueError\u001b[0m                                Traceback (most recent call last)",
      "\u001b[0;32m<ipython-input-5-f03241ff3a3c>\u001b[0m in \u001b[0;36m<module>\u001b[0;34m\u001b[0m\n\u001b[1;32m      4\u001b[0m \u001b[0;32mfor\u001b[0m \u001b[0mi\u001b[0m \u001b[0;32min\u001b[0m \u001b[0mrange\u001b[0m\u001b[0;34m(\u001b[0m\u001b[0;36m0\u001b[0m\u001b[0;34m,\u001b[0m \u001b[0;36m939\u001b[0m\u001b[0;34m)\u001b[0m\u001b[0;34m:\u001b[0m\u001b[0;34m\u001b[0m\u001b[0;34m\u001b[0m\u001b[0m\n\u001b[1;32m      5\u001b[0m     \u001b[0;31m# pull out two unique ids\u001b[0m\u001b[0;34m\u001b[0m\u001b[0;34m\u001b[0m\u001b[0;34m\u001b[0m\u001b[0m\n\u001b[0;32m----> 6\u001b[0;31m     \u001b[0mid_1\u001b[0m \u001b[0;34m=\u001b[0m \u001b[0mint\u001b[0m\u001b[0;34m(\u001b[0m\u001b[0mdf\u001b[0m\u001b[0;34m.\u001b[0m\u001b[0mloc\u001b[0m\u001b[0;34m[\u001b[0m\u001b[0mi\u001b[0m\u001b[0;34m,\u001b[0m \u001b[0;34m'ID 1'\u001b[0m\u001b[0;34m]\u001b[0m\u001b[0;34m)\u001b[0m\u001b[0;34m\u001b[0m\u001b[0;34m\u001b[0m\u001b[0m\n\u001b[0m\u001b[1;32m      7\u001b[0m     \u001b[0mid_2\u001b[0m \u001b[0;34m=\u001b[0m \u001b[0mint\u001b[0m\u001b[0;34m(\u001b[0m\u001b[0mdf\u001b[0m\u001b[0;34m.\u001b[0m\u001b[0mloc\u001b[0m\u001b[0;34m[\u001b[0m\u001b[0mi\u001b[0m\u001b[0;34m,\u001b[0m \u001b[0;34m'ID 2'\u001b[0m\u001b[0;34m]\u001b[0m\u001b[0;34m)\u001b[0m\u001b[0;34m\u001b[0m\u001b[0;34m\u001b[0m\u001b[0m\n\u001b[1;32m      8\u001b[0m \u001b[0;34m\u001b[0m\u001b[0m\n",
      "\u001b[0;31mValueError\u001b[0m: cannot convert float NaN to integer"
     ]
    }
   ],
   "source": [
    "# this is the same thing but I had some data that was formatted with the unique ids side by side \n",
    "# rather than one after another, probably won't be used in future\n",
    "\n",
    "for i in range(0, 242):\n",
    "    # pull out two unique ids\n",
    "    id_1 = int(df.loc[i, 'ID 1'])\n",
    "    id_2 = int(df.loc[i, 'ID 2'])\n",
    "    \n",
    "    # sometimes unique id isn't in master anymore since the file has been deleted, check for that here\n",
    "    if (len(master[master['unique_id'] == id_1].index) == 0) | (len(master[master['unique_id'] == id_2].index) == 0):\n",
    "        continue\n",
    "    \n",
    "    # find them in master\n",
    "    master_index_1 = master[master['unique_id'] == id_1].index.tolist()\n",
    "    master_index_2 = master[master['unique_id'] == id_2].index.tolist()\n",
    "    \n",
    "    # assign unsure ids\n",
    "    master.loc[master.index[master_index_1], 'no_ids'].item().append(id_2)\n",
    "    master.loc[master.index[master_index_2], 'no_ids'].item().append(id_1)"
   ]
  },
  {
   "cell_type": "code",
   "execution_count": 12,
   "metadata": {},
   "outputs": [],
   "source": [
    "master.to_excel(\"current_master_2_10_20.xlsx\")"
   ]
  },
  {
   "cell_type": "code",
   "execution_count": null,
   "metadata": {},
   "outputs": [],
   "source": []
  }
 ],
 "metadata": {
  "kernelspec": {
   "display_name": "Python 3",
   "language": "python",
   "name": "python3"
  },
  "language_info": {
   "codemirror_mode": {
    "name": "ipython",
    "version": 3
   },
   "file_extension": ".py",
   "mimetype": "text/x-python",
   "name": "python",
   "nbconvert_exporter": "python",
   "pygments_lexer": "ipython3",
   "version": "3.7.3"
  }
 },
 "nbformat": 4,
 "nbformat_minor": 2
}
